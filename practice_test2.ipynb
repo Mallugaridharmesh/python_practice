{
  "nbformat": 4,
  "nbformat_minor": 0,
  "metadata": {
    "colab": {
      "provenance": [],
      "gpuType": "T4",
      "authorship_tag": "ABX9TyMDSF8U6D52hMNbK2Pc6Kfu",
      "include_colab_link": true
    },
    "kernelspec": {
      "name": "python3",
      "display_name": "Python 3"
    },
    "language_info": {
      "name": "python"
    },
    "accelerator": "GPU"
  },
  "cells": [
    {
      "cell_type": "markdown",
      "metadata": {
        "id": "view-in-github",
        "colab_type": "text"
      },
      "source": [
        "<a href=\"https://colab.research.google.com/github/Mallugaridharmesh/python_practice/blob/main/practice_test2.ipynb\" target=\"_parent\"><img src=\"https://colab.research.google.com/assets/colab-badge.svg\" alt=\"Open In Colab\"/></a>"
      ]
    },
    {
      "cell_type": "markdown",
      "source": [
        "26. write the rules to create a variables?\n",
        "* Variable names in Python can contain letters (a-z, A-Z), numbers (0-9), and underscore(_)\n",
        "* they cannot start eith a number\n",
        "* keyword can't be used\n"
      ],
      "metadata": {
        "id": "_tyTMZI7Rl74"
      }
    },
    {
      "cell_type": "markdown",
      "source": [
        "27. what is type function?\n",
        "\n",
        "* The type() function in Python is used to determine the data type of a variable or object."
      ],
      "metadata": {
        "id": "PXOyIjBHSMrB"
      }
    },
    {
      "cell_type": "code",
      "source": [
        "number = 10\n",
        "print(type(number))"
      ],
      "metadata": {
        "colab": {
          "base_uri": "https://localhost:8080/"
        },
        "id": "eQSqNV2LTUn0",
        "outputId": "85dd702c-65b5-4df3-b55a-1c0ca683234f"
      },
      "execution_count": null,
      "outputs": [
        {
          "output_type": "stream",
          "name": "stdout",
          "text": [
            "<class 'int'>\n"
          ]
        }
      ]
    },
    {
      "cell_type": "markdown",
      "source": [
        "28. what is differences between = and == in python\n",
        "assigment opeartor:\n",
        "* In Python, '=' and '==' are two distinct operators with different purposes\n",
        "* equat"
      ],
      "metadata": {
        "id": "8BcxhkJWT9C5"
      }
    },
    {
      "cell_type": "markdown",
      "source": [
        "29. what is difference between muttable and immutable?\n",
        "* Mutable objects can be changed after they are created.\n",
        "* Immutable objects cannot be changed after they are created.\n"
      ],
      "metadata": {
        "id": "l-QU_lTyURDz"
      }
    },
    {
      "cell_type": "markdown",
      "source": [
        "30. write a python code to print first natural numbers?"
      ],
      "metadata": {
        "id": "vfxc9o4IT0n5"
      }
    },
    {
      "cell_type": "code",
      "source": [
        "# write a python code to print first natural numbers using loop statement?\n",
        "for i in range(1, 11):\n",
        "    print(i)\n"
      ],
      "metadata": {
        "colab": {
          "base_uri": "https://localhost:8080/"
        },
        "id": "6QFND1sKXkJD",
        "outputId": "762e336e-c972-4b40-eece-a676a05daf06"
      },
      "execution_count": null,
      "outputs": [
        {
          "output_type": "stream",
          "name": "stdout",
          "text": [
            "1\n",
            "2\n",
            "3\n",
            "4\n",
            "5\n",
            "6\n",
            "7\n",
            "8\n",
            "9\n",
            "10\n"
          ]
        }
      ]
    },
    {
      "cell_type": "code",
      "source": [
        "i = 1\n",
        "while i <= 10:\n",
        "    print(i)\n",
        "    i += 1"
      ],
      "metadata": {
        "colab": {
          "base_uri": "https://localhost:8080/"
        },
        "id": "CeKFczRvY9uu",
        "outputId": "aa009869-6cd4-4225-e266-c5c3b48c7e03"
      },
      "execution_count": null,
      "outputs": [
        {
          "output_type": "stream",
          "name": "stdout",
          "text": [
            "1\n",
            "2\n",
            "3\n",
            "4\n",
            "5\n",
            "6\n",
            "7\n",
            "8\n",
            "9\n",
            "10\n"
          ]
        }
      ]
    },
    {
      "cell_type": "code",
      "source": [
        "# write a python program some of first 10 natural number?\n",
        "i = 1\n",
        "sum = 0\n",
        "while i <= 10:\n",
        "    sum += i\n",
        "    i += 1\n",
        "print(sum)\n"
      ],
      "metadata": {
        "colab": {
          "base_uri": "https://localhost:8080/"
        },
        "id": "GdGCCMm6Zjfn",
        "outputId": "7575a750-937b-4696-86c0-d9962a37586f"
      },
      "execution_count": null,
      "outputs": [
        {
          "output_type": "stream",
          "name": "stdout",
          "text": [
            "55\n"
          ]
        }
      ]
    },
    {
      "cell_type": "code",
      "source": [
        "a = [1,2,3,4,5,6,7,8,9,10]\n",
        "sum = 0\n",
        "for i in a:\n",
        "    sum += i\n",
        "print(sum)"
      ],
      "metadata": {
        "colab": {
          "base_uri": "https://localhost:8080/"
        },
        "id": "az5gbWh2bKiZ",
        "outputId": "72d5ef10-84ff-4ae9-ed74-9a80cef63390"
      },
      "execution_count": null,
      "outputs": [
        {
          "output_type": "stream",
          "name": "stdout",
          "text": [
            "55\n"
          ]
        }
      ]
    },
    {
      "cell_type": "markdown",
      "source": [
        "31. write a python program to identify given number is prime or not"
      ],
      "metadata": {
        "id": "M1cWFhVhHTW_"
      }
    },
    {
      "cell_type": "code",
      "source": [
        "# write a python program to identify given number is prime or not\n",
        "number = int(input(\"Enter a number: \"))\n",
        "for i in range(2, number):\n",
        "    if number % i == 0:\n",
        "        print(number, \"is not a prime number\")\n",
        "        break\n",
        "else:\n",
        "    print(number, \"is a prime number\")\n",
        ""
      ],
      "metadata": {
        "colab": {
          "base_uri": "https://localhost:8080/"
        },
        "id": "8AMzzwLOHQN-",
        "outputId": "f436b4ac-c749-41ea-e577-17dac74683d1"
      },
      "execution_count": 6,
      "outputs": [
        {
          "output_type": "stream",
          "name": "stdout",
          "text": [
            "Enter a number: 6\n",
            "6 is not a prime number\n"
          ]
        }
      ]
    },
    {
      "cell_type": "markdown",
      "source": [
        "32. write a python fibanoic series of 5?\n"
      ],
      "metadata": {
        "id": "P8Cd6se_P4SC"
      }
    },
    {
      "cell_type": "code",
      "source": [
        "#32. write a python fibanoic series of 5?\n",
        "#f(n) = f(n-1) + f(n-2)\n",
        "f = 0\n",
        "F = 1\n",
        "for i in range(5):\n",
        "  print(f)\n",
        "  f = F + f\n",
        "  F = f - F\n",
        "\n",
        ""
      ],
      "metadata": {
        "colab": {
          "base_uri": "https://localhost:8080/"
        },
        "id": "OR380gC_c23B",
        "outputId": "a9b5f7fb-f33e-4a12-e0f4-5a156655257d"
      },
      "execution_count": 33,
      "outputs": [
        {
          "output_type": "stream",
          "name": "stdout",
          "text": [
            "0\n",
            "1\n",
            "1\n",
            "2\n",
            "3\n"
          ]
        }
      ]
    },
    {
      "cell_type": "markdown",
      "source": [
        "33. write a python program to find factorial of given number"
      ],
      "metadata": {
        "id": "Sg6LXty4l1Rh"
      }
    },
    {
      "cell_type": "code",
      "source": [
        "#33. write a python program to find factorial of given number?\n",
        "#n! = n * (n - 1) * (n - 2) * ... * 2 * 1\n",
        "number = int(input(\"Enter a number: \"))#4! = 4 * (4 - 1) * (4 - 2) * (4 - 3)\n",
        "factorial = 1                          #  = 4 * 3 * 2 * 1 = 24\n",
        "for n in range(1, number + 1):    # Factorials start with 1, not 0\n",
        "    factorial = factorial * n\n",
        "print(factorial)\n"
      ],
      "metadata": {
        "colab": {
          "base_uri": "https://localhost:8080/"
        },
        "id": "xkiaMaIol2L6",
        "outputId": "bf606acb-dfe9-4691-ce2c-663c39667147"
      },
      "execution_count": 67,
      "outputs": [
        {
          "output_type": "stream",
          "name": "stdout",
          "text": [
            "Enter a number: 4\n",
            "24\n"
          ]
        }
      ]
    },
    {
      "cell_type": "markdown",
      "source": [
        "write a python program to print multiplication table on given number"
      ],
      "metadata": {
        "id": "Pb9gpmA0quum"
      }
    },
    {
      "cell_type": "code",
      "source": [
        "#write a python program to print multiplication table on given number?\n",
        "number = int(input(\"Enter a number: \"))\n",
        "for i in range(1,11):# contain a 1 t0 11 #slicing\n",
        "    print(number, \"x\", i, \"=\", number * i)"
      ],
      "metadata": {
        "colab": {
          "base_uri": "https://localhost:8080/"
        },
        "id": "fI9Ef_PJq8Nl",
        "outputId": "e7a32c6e-7dcf-4f9d-dc99-1069781d3a29"
      },
      "execution_count": 86,
      "outputs": [
        {
          "output_type": "stream",
          "name": "stdout",
          "text": [
            "Enter a number: 2\n",
            "2 x 1 = 2\n",
            "2 x 2 = 4\n",
            "2 x 3 = 6\n",
            "2 x 4 = 8\n",
            "2 x 5 = 10\n",
            "2 x 6 = 12\n",
            "2 x 7 = 14\n",
            "2 x 8 = 16\n",
            "2 x 9 = 18\n",
            "2 x 10 = 20\n"
          ]
        }
      ]
    },
    {
      "cell_type": "markdown",
      "source": [
        "35. write a python program to count total number of digits in a numbers"
      ],
      "metadata": {
        "id": "MN7VTFAFuxIf"
      }
    },
    {
      "cell_type": "code",
      "source": [
        "from string import digits\n",
        "#35. write a python program to count total number of digits in a numbers?\n",
        "number = int(input(\"Enter a number: \"))\n",
        "count = 0\n",
        "if number == 0:\n",
        "    count = 1\n",
        "else:\n",
        "    while number > 0:\n",
        "        number = number // 10\n",
        "        count += 1\n",
        "print(\"number of digits:\", count)"
      ],
      "metadata": {
        "colab": {
          "base_uri": "https://localhost:8080/"
        },
        "id": "zx_kDkYVrKRn",
        "outputId": "77903010-23ce-470e-b7fd-edc0229623da"
      },
      "execution_count": 101,
      "outputs": [
        {
          "output_type": "stream",
          "name": "stdout",
          "text": [
            "Enter a number: 3456789\n",
            "number of digits: 7\n"
          ]
        }
      ]
    },
    {
      "cell_type": "markdown",
      "source": [
        "\n",
        "36. write a python program print list in reverse using loop"
      ],
      "metadata": {
        "id": "JBQ5g7_MxuJu"
      }
    },
    {
      "cell_type": "markdown",
      "source": [
        "reversed = []\n",
        "for i in a:\n",
        "    reversed.insert(0, i)\n",
        "print(reversed)"
      ],
      "metadata": {
        "id": "bysDCbLqyhzq"
      }
    },
    {
      "cell_type": "code",
      "source": [
        "#36. write a python program print list in reverse using loop?\n",
        "a = [1,2,3,4,5,6,7,8,9,10]\n",
        "reversed = []\n",
        "for i in a:\n",
        "    reversed.insert(0, i)\n",
        "print(reversed)"
      ],
      "metadata": {
        "colab": {
          "base_uri": "https://localhost:8080/"
        },
        "id": "dbfLc7Yvysts",
        "outputId": "313fd5aa-f329-4d36-abc0-72edd1f393c7"
      },
      "execution_count": 119,
      "outputs": [
        {
          "output_type": "stream",
          "name": "stdout",
          "text": [
            "[10, 9, 8, 7, 6, 5, 4, 3, 2, 1]\n"
          ]
        }
      ]
    },
    {
      "cell_type": "code",
      "source": [
        "#36. write a python program print list in reverse using loop?\n",
        "a = [1,2,3,4,5,6,7,8,9,10]\n",
        "for i in a[::-1]: #contain a list of slicing\n",
        "    print(i)"
      ],
      "metadata": {
        "colab": {
          "base_uri": "https://localhost:8080/"
        },
        "id": "9TBKqP9wxt2v",
        "outputId": "418c7585-21bc-4ab4-a48f-62f98b57973e"
      },
      "execution_count": 118,
      "outputs": [
        {
          "output_type": "stream",
          "name": "stdout",
          "text": [
            "10\n",
            "9\n",
            "8\n",
            "7\n",
            "6\n",
            "5\n",
            "4\n",
            "3\n",
            "2\n",
            "1\n"
          ]
        }
      ]
    },
    {
      "cell_type": "markdown",
      "source": [
        "\n",
        "37. write a python program to display from -10 to -1 using loop"
      ],
      "metadata": {
        "id": "Ot65dbMC0Ana"
      }
    },
    {
      "cell_type": "code",
      "source": [
        "#37. write a python program to display from -10 to -1 using loop?\n",
        "for i in range(-10, 0):\n",
        "    print(i)"
      ],
      "metadata": {
        "colab": {
          "base_uri": "https://localhost:8080/"
        },
        "id": "iX03LPLB0GCq",
        "outputId": "e9f909c8-092f-4f9f-d329-85b45cc73ae6"
      },
      "execution_count": 120,
      "outputs": [
        {
          "output_type": "stream",
          "name": "stdout",
          "text": [
            "-10\n",
            "-9\n",
            "-8\n",
            "-7\n",
            "-6\n",
            "-5\n",
            "-4\n",
            "-3\n",
            "-2\n",
            "-1\n"
          ]
        }
      ]
    }
  ]
}