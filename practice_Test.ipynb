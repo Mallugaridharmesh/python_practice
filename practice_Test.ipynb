{
  "nbformat": 4,
  "nbformat_minor": 0,
  "metadata": {
    "colab": {
      "provenance": [],
      "authorship_tag": "ABX9TyM3vJz12sjFmFgMyTgpKijK",
      "include_colab_link": true
    },
    "kernelspec": {
      "name": "python3",
      "display_name": "Python 3"
    },
    "language_info": {
      "name": "python"
    }
  },
  "cells": [
    {
      "cell_type": "markdown",
      "metadata": {
        "id": "view-in-github",
        "colab_type": "text"
      },
      "source": [
        "<a href=\"https://colab.research.google.com/github/Mallugaridharmesh/python_practice/blob/main/practice_Test.ipynb\" target=\"_parent\"><img src=\"https://colab.research.google.com/assets/colab-badge.svg\" alt=\"Open In Colab\"/></a>"
      ]
    },
    {
      "cell_type": "markdown",
      "source": [
        "#1. What is Python and why is it popular?\n",
        "Python is a high-level, interpreted, general-purpose programming language.\n",
        "It emphasizes code readability and has a syntax that allows developers to express concepts in fewer lines of code compared to languages such as C++ or Java.it is developed by guido russom in 1991.\n"
      ],
      "metadata": {
        "id": "mHLn2Tm6OY09"
      }
    },
    {
      "cell_type": "markdown",
      "source": [
        "#2. What is an IDE and name a few popular Python IDEs?\n",
        "An IDE (Integrated Development Environment) is a software application that provides comprehensive facilities to computer programmers for software development. It normally consists\n"
      ],
      "metadata": {
        "id": "ByYvtOL8Oysl"
      }
    },
    {
      "cell_type": "markdown",
      "source": [
        "#3.What are the rules for naming variables in Python?\n",
        "  Variable names in Python can contain letters (a-z, A-Z), numbers (0-9), and underscores (_).\n",
        "*  They cannot start with a number\n",
        "*  Python keywords (reserved words) cannot be used as variable names\n",
        "* It is good practice to use descriptive names that reflect the purpose of the variable.they are case\n",
        "\n"
      ],
      "metadata": {
        "id": "BSBIFRhwPx1-"
      }
    },
    {
      "cell_type": "markdown",
      "source": [
        "# 4.How do you assign multiple values to multiple variables in a single line?\n",
        "* x, y, z = 10, 20, 30\n"
      ],
      "metadata": {
        "id": "qrBR2RykQjFE"
      }
    },
    {
      "cell_type": "code",
      "source": [
        "\n",
        "x, y, z = 10, 20, 30"
      ],
      "metadata": {
        "id": "0sIUlz5hQ-Wk"
      },
      "execution_count": null,
      "outputs": []
    },
    {
      "cell_type": "markdown",
      "source": [
        "#5.Can you use Python keywords as variable names? Why or why not?\n",
        " No, you cannot use Python keywords as variable names.\n",
        " Python keywords are reserved words that have special meanings in the language and are used to define the syntax and structure of the Python language.\n",
        " Using them as variable names would cause and errors\n",
        "* Example:\n",
        " if = 10  # This will cause a syntax error because 'if' is a keyword.\n"
      ],
      "metadata": {
        "id": "R7YgeKzoRAoR"
      }
    },
    {
      "cell_type": "markdown",
      "source": [
        " # 6.Why are comments important in programming?\n",
        "> which comment contains a text messages in format\n",
        "comment can get a langauge in programs so we can types a easy format in a programming base understanding the purpose of code\n",
        "* comments can provides context for erroer or helping to fix a issues more efficiently\n",
        "* it can explain the code what does it means\n"
      ],
      "metadata": {
        "id": "2q9kl--RR4KT"
      }
    },
    {
      "cell_type": "markdown",
      "source": [
        "7. What are the basic data types in Python?\n",
        "* There four types of basic data types are:\n",
        "1. Integers (int): Whole numbers, such as 10, -5, 0.\n",
        "2. Floating-point numbers (float): Numbers with decimal points, such as 3.14, -2.5.\n",
        "3. Complex numbers (complex): Numbers with a real and imaginary part, such as 2 + 3j.\n",
        "4. Booleans (bool): Represents truth values, either True or False.\n",
        "\n"
      ],
      "metadata": {
        "id": "DibPVu7gTBPl"
      }
    },
    {
      "cell_type": "code",
      "source": [
        "#integer():-\n",
        "a = (10)\n",
        "print(a)\n",
        "print(type(a))\n",
        "\n"
      ],
      "metadata": {
        "colab": {
          "base_uri": "https://localhost:8080/"
        },
        "id": "1AKXwpOKT-2v",
        "outputId": "a462bee5-f33b-4fd4-836d-1a29f3deea8d"
      },
      "execution_count": null,
      "outputs": [
        {
          "output_type": "stream",
          "name": "stdout",
          "text": [
            "10\n",
            "<class 'int'>\n"
          ]
        }
      ]
    },
    {
      "cell_type": "code",
      "source": [
        "#float():\n",
        "a = (10.5)\n",
        "print(a)\n",
        "print(type(a))"
      ],
      "metadata": {
        "colab": {
          "base_uri": "https://localhost:8080/"
        },
        "id": "8ng6MKeoUEcS",
        "outputId": "23d81970-eed4-4a88-dbb6-fdd786d76ec4"
      },
      "execution_count": null,
      "outputs": [
        {
          "output_type": "stream",
          "name": "stdout",
          "text": [
            "10.5\n",
            "<class 'float'>\n"
          ]
        }
      ]
    },
    {
      "cell_type": "code",
      "source": [
        "#complex():-\n",
        "a = (2+3j)\n",
        "print(a)\n",
        "print(type(a))"
      ],
      "metadata": {
        "colab": {
          "base_uri": "https://localhost:8080/"
        },
        "id": "jqt7lDL6UYhX",
        "outputId": "007f0ad3-527d-423f-bd34-9aade72940de"
      },
      "execution_count": null,
      "outputs": [
        {
          "output_type": "stream",
          "name": "stdout",
          "text": [
            "(2+3j)\n",
            "<class 'complex'>\n"
          ]
        }
      ]
    },
    {
      "cell_type": "code",
      "source": [
        "#Boolean():-\n",
        "a = (10>1)\n",
        "print(a)\n",
        "print(type(a))"
      ],
      "metadata": {
        "colab": {
          "base_uri": "https://localhost:8080/"
        },
        "id": "eQ45iY9QUfJo",
        "outputId": "6826bf1a-e122-41d0-b6ae-4de1244079d9"
      },
      "execution_count": null,
      "outputs": [
        {
          "output_type": "stream",
          "name": "stdout",
          "text": [
            "True\n",
            "<class 'bool'>\n"
          ]
        }
      ]
    },
    {
      "cell_type": "code",
      "source": [
        "#string():-\n",
        "a = (\"hello\")\n",
        "print(a)\n",
        "print(type(a))"
      ],
      "metadata": {
        "colab": {
          "base_uri": "https://localhost:8080/"
        },
        "id": "pgNl1etLUoo2",
        "outputId": "a6bd8daf-7294-4c51-fc11-a31f7b46a494"
      },
      "execution_count": null,
      "outputs": [
        {
          "output_type": "stream",
          "name": "stdout",
          "text": [
            "hello\n",
            "<class 'str'>\n"
          ]
        }
      ]
    },
    {
      "cell_type": "markdown",
      "source": [
        "# 7.#How do you convert a string to an integer in Python?"
      ],
      "metadata": {
        "id": "VnJEo358m1-C"
      }
    },
    {
      "cell_type": "code",
      "source": [
        "#How do you convert a string to an integer in Python?\n",
        "string_value = \"123\"\n",
        "integer_value = int(string_value)\n",
        "print(integer_value)\n",
        "print(type(integer_value))"
      ],
      "metadata": {
        "colab": {
          "base_uri": "https://localhost:8080/"
        },
        "id": "9kmfZ992VCw7",
        "outputId": "ec0e285c-dba0-4448-9868-80746814ecec"
      },
      "execution_count": null,
      "outputs": [
        {
          "output_type": "stream",
          "name": "stdout",
          "text": [
            "123\n",
            "<class 'int'>\n"
          ]
        }
      ]
    },
    {
      "cell_type": "markdown",
      "source": [
        "# 8.What is the difference between int and float?\n",
        " * integer(int):Represents whole numbers without any decimal points.  \n",
        "> Examples: 10, -5, 0, 1000\n",
        "\n",
        "* float (floating-point number): Represents numbers with decimal points.\n",
        "> Examples: 3.14, -2.5"
      ],
      "metadata": {
        "id": "yiOQNh-IVX41"
      }
    },
    {
      "cell_type": "markdown",
      "source": [
        "#10.How do you check the data type of a variable?"
      ],
      "metadata": {
        "id": "YmKBdAxqnO4b"
      }
    },
    {
      "cell_type": "code",
      "source": [
        "#How do you check the data type of a variable?\n",
        "\n",
        "a = 10\n",
        "print(type(a))\n",
        "\n",
        "b = 3.14\n",
        "print(type(b))\n",
        "\n",
        "c = \"Hello\"\n",
        "print(type(c))\n",
        "\n",
        "d = True\n",
        "print(type(d))"
      ],
      "metadata": {
        "id": "2ysH4r9tWBuu"
      },
      "execution_count": null,
      "outputs": []
    },
    {
      "cell_type": "markdown",
      "source": [
        "#11 How do you add an element to a list?"
      ],
      "metadata": {
        "id": "aySGZTCnnhTD"
      }
    },
    {
      "cell_type": "markdown",
      "source": [],
      "metadata": {
        "id": "gSDcgqYRnhQo"
      }
    },
    {
      "cell_type": "code",
      "source": [
        "#How do you add an element to a list?\n",
        "list1 = [1, 2, 3]\n",
        "list1.append(4)\n",
        "print(list1)"
      ],
      "metadata": {
        "colab": {
          "base_uri": "https://localhost:8080/"
        },
        "id": "r26a0et0WUZy",
        "outputId": "7768c511-4b57-4722-e901-49e37bbb4c30"
      },
      "execution_count": null,
      "outputs": [
        {
          "output_type": "stream",
          "name": "stdout",
          "text": [
            "[1, 2, 3, 4]\n"
          ]
        }
      ]
    },
    {
      "cell_type": "markdown",
      "source": [
        "# 12.How do you create a tuple with one element?"
      ],
      "metadata": {
        "id": "WxyxTr2RnvYm"
      }
    },
    {
      "cell_type": "code",
      "source": [
        "# How do you create a tuple with one element?\n",
        "\n",
        "my_tuple = (1,)\n",
        "print(my_tuple)\n",
        "print(type(my_tuple))"
      ],
      "metadata": {
        "colab": {
          "base_uri": "https://localhost:8080/"
        },
        "id": "evPiWB3nWtMX",
        "outputId": "f378c329-1ecc-4fde-ee90-ef73f5fa5b28"
      },
      "execution_count": null,
      "outputs": [
        {
          "output_type": "stream",
          "name": "stdout",
          "text": [
            "(1,)\n",
            "<class 'tuple'>\n"
          ]
        }
      ]
    },
    {
      "cell_type": "markdown",
      "source": [
        "#14 How do you access elements in a list?"
      ],
      "metadata": {
        "id": "og93cjWPn4VS"
      }
    },
    {
      "cell_type": "code",
      "source": [
        "# How do you access elements in a list?\n",
        "\n",
        "my_list = [1, 2, 3, 4, 5]\n",
        "first_element = my_list[0]\n",
        "third_element = my_list[2]\n",
        "last_element = my_list[-1]\n",
        "elements_from_index_1_to_3 = my_list[1:4]\n",
        "print(first_element)\n",
        "print(third_element)\n",
        "print(last_element)\n",
        "print(elements_from_index_1_to_3)"
      ],
      "metadata": {
        "colab": {
          "base_uri": "https://localhost:8080/"
        },
        "id": "jlrJ2DZ9W7Mw",
        "outputId": "cbeeccbd-6cff-4014-b687-19808da95977"
      },
      "execution_count": null,
      "outputs": [
        {
          "output_type": "stream",
          "name": "stdout",
          "text": [
            "1\n",
            "3\n",
            "5\n",
            "[2, 3, 4]\n"
          ]
        }
      ]
    },
    {
      "cell_type": "markdown",
      "source": [
        "#15 How do you access a character in a string?"
      ],
      "metadata": {
        "id": "9TA8QB8sn_aM"
      }
    },
    {
      "cell_type": "code",
      "source": [
        "# How do you access a character in a string?\n",
        "my_string = \"Hello, World!\"\n",
        "first_character = my_string[0]\n",
        "print(first_character)"
      ],
      "metadata": {
        "colab": {
          "base_uri": "https://localhost:8080/"
        },
        "id": "zrecKZPyXYdR",
        "outputId": "ea718ea0-1093-43b6-d68c-b447714ba49f"
      },
      "execution_count": null,
      "outputs": [
        {
          "output_type": "stream",
          "name": "stdout",
          "text": [
            "H\n"
          ]
        }
      ]
    },
    {
      "cell_type": "markdown",
      "source": [
        "# 17 what is a tuple and how is it different from a list?\n",
        "* In Python, a tuple is an ordered, immutable collection of elements.\n",
        "*  Immutable means that once a tuple is created, you cannot change its elements.\n",
        "\n",
        "* A list, on the other hand, is also an ordered collection of elements, but it is mutable.\n",
        "* This means you can add, remove, or modify elements in a list after it's created."
      ],
      "metadata": {
        "id": "NGgJNXsHX5X7"
      }
    },
    {
      "cell_type": "markdown",
      "source": [
        "#18.How do you concatenate two tuples?"
      ],
      "metadata": {
        "id": "I_ijRPq3oI4F"
      }
    },
    {
      "cell_type": "code",
      "source": [
        "#How do you concatenate two tuples?\n",
        "tuple1 = (1, 2, 3)\n",
        "tuple2 = (4, 5, 6)\n",
        "concatenated_tuple = tuple1 + tuple2\n",
        "print(concatenated_tuple)"
      ],
      "metadata": {
        "colab": {
          "base_uri": "https://localhost:8080/"
        },
        "id": "_915WMNeYRNl",
        "outputId": "10b83026-2714-4554-d6e0-2ce586d9fc61"
      },
      "execution_count": null,
      "outputs": [
        {
          "output_type": "stream",
          "name": "stdout",
          "text": [
            "(1, 2, 3, 4, 5, 6)\n"
          ]
        }
      ]
    },
    {
      "cell_type": "markdown",
      "source": [
        "# 22.How do you add an element to a set?"
      ],
      "metadata": {
        "id": "OX3AErh8oQCF"
      }
    },
    {
      "cell_type": "code",
      "source": [
        "# How do you add an element to a set?\n",
        "\n",
        "my_set = {1, 2, 3}\n",
        "my_set.add(4)\n",
        "print(my_set)"
      ],
      "metadata": {
        "colab": {
          "base_uri": "https://localhost:8080/"
        },
        "id": "AEGL4CWzYgsb",
        "outputId": "565b3023-cbe4-4b7f-c8b0-5b28c3757b9d"
      },
      "execution_count": null,
      "outputs": [
        {
          "output_type": "stream",
          "name": "stdout",
          "text": [
            "{1, 2, 3, 4}\n"
          ]
        }
      ]
    },
    {
      "cell_type": "markdown",
      "source": [
        "#23.How do you remove an element from a set?"
      ],
      "metadata": {
        "id": "vDfKsE6hoZMN"
      }
    },
    {
      "cell_type": "code",
      "source": [
        "#How do you remove an element from a set?\n",
        "my_set = {1, 2, 3, 4}\n",
        "my_set.remove(3)\n",
        "print(my_set)"
      ],
      "metadata": {
        "colab": {
          "base_uri": "https://localhost:8080/"
        },
        "id": "-lYgNd2xYjXi",
        "outputId": "3e4b958a-2799-4077-8314-d1faaa9b461f"
      },
      "execution_count": null,
      "outputs": [
        {
          "output_type": "stream",
          "name": "stdout",
          "text": [
            "{1, 2, 4}\n"
          ]
        }
      ]
    },
    {
      "cell_type": "markdown",
      "source": [
        "# 25. What are the common set operations in Python?\n",
        "\n",
        "* Union: Returns a new set containing all elements from both sets.\n",
        "> union_set = set1.union(set2)\n",
        "print(\"Union:\", union_set)\n",
        "*  Intersection: Returns a new set containing only elements present in both sets.\n",
        "> intersection_set = set1 & set2  \n",
        "* Difference: Returns a new set containing elements present in the first set but not in the second.\n",
        "> difference_set = set1 - set2  \n",
        "* Symmetric Difference: Returns a new set containing elements present in either set but not in both.\n",
        "> symmetric_difference_set = set1 ^ set2"
      ],
      "metadata": {
        "id": "fkJF46oGYxsO"
      }
    },
    {
      "cell_type": "code",
      "source": [
        "\n"
      ],
      "metadata": {
        "id": "SUbBcVacZo2T"
      },
      "execution_count": null,
      "outputs": []
    },
    {
      "cell_type": "code",
      "source": [],
      "metadata": {
        "id": "xVMQ9U33Z5Ad"
      },
      "execution_count": null,
      "outputs": []
    }
  ]
}